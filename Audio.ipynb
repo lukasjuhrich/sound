{
 "cells": [
  {
   "cell_type": "markdown",
   "metadata": {},
   "source": [
    "# Playing with some audio"
   ]
  },
  {
   "cell_type": "markdown",
   "metadata": {},
   "source": [
    "## Imports"
   ]
  },
  {
   "cell_type": "code",
   "execution_count": 20,
   "metadata": {
    "collapsed": true
   },
   "outputs": [],
   "source": [
    "%matplotlib inline\n",
    "import wave\n",
    "import sys\n",
    "from pprint import pprint\n",
    "\n",
    "import numpy as np\n",
    "from matplotlib import pyplot as plt"
   ]
  },
  {
   "cell_type": "markdown",
   "metadata": {},
   "source": [
    "Once we got that out of the way, let's _start plotting_ – just for fun.\n",
    "\n",
    "Let's take $f: [0, 100] \\rightarrow \\mathbb R, x \\mapsto x^2$"
   ]
  },
  {
   "cell_type": "code",
   "execution_count": 21,
   "metadata": {
    "collapsed": false
   },
   "outputs": [
    {
     "data": {
      "text/plain": [
       "[<matplotlib.lines.Line2D at 0x7f4e3afaa630>]"
      ]
     },
     "execution_count": 21,
     "metadata": {},
     "output_type": "execute_result"
    },
    {
     "data": {
      "image/png": "[encoded data removed]",
      "text/plain": [
       "<matplotlib.figure.Figure at 0x7f4e3adf9b70>"
      ]
     },
     "metadata": {},
     "output_type": "display_data"
    }
   ],
   "source": [
    "xs = np.arange(0, 100, 0.01)\n",
    "y = lambda x: x**2\n",
    "\n",
    "plt.plot(xs, [y(x) for x in xs])"
   ]
  },
  {
   "cell_type": "markdown",
   "metadata": {},
   "source": [
    "## Decoding\n",
    "\n",
    "Now, onto the real business:  We need to decode that wavefile. Currently, it is assumed to be at `sample.wav`.\n",
    "\n",
    "The file is assumed to not be using any compression and using basic [PCM](https://en.wikipedia.org/wiki/Pulse-code_modulation).\n",
    "\n",
    "With these assumptions, the python wave module enables us to read each frame of the sound part.  A frame represents one point of audio information.  If the file uses the standard $44.1~kHz$ framerate, $n$ seconds of sound are encoded by $n \\cdot 44100$ of such frames.\n",
    "\n",
    "### Structure of the Frames\n",
    "Each frame successively contains a _sample_ for each channel of the file. The number of channels is specified in the file header. We easily gain access over the most important header-information via the [Wave_read.getparams()](https://docs.python.org/3/library/wave.html#wave.Wave_read.getparams) method.\n",
    "\n",
    "Samples are assumed to be encoded as `signed int`s using little endian, i.e. the most significant bit (highest power of $2$) is at the beginning, as you are used to from reading binary representations of numbers.\n",
    "\n",
    "The following method decodes a frame into two such `int`s.  (To be more precise, it is a [generator](https://docs.python.org/3/tutorial/classes.html#generators) successively yielding each sample in a one-shot manner. To persist it, we need to convert it using `tuple` or similiar)."
   ]
  },
  {
   "cell_type": "code",
   "execution_count": 22,
   "metadata": {
    "collapsed": false
   },
   "outputs": [],
   "source": [
    "def iter_decode_frame(frame, channels=1):\n",
    "    \"\"\"Decode a WAV frame into a tuple of signed ints\n",
    "    \n",
    "    :param frame: a bytes-like object of length divisible by\n",
    "    `channels`\n",
    "    \n",
    "    :param channels: the number of channels contained in\n",
    "    this frame\n",
    "    \n",
    "    :returns: a tuple of length `channels` consisting the integer\n",
    "    representation of the bytes. It assumes\n",
    "\n",
    "    :raises: ValueError if `len(frame)` not divisible by `channels`\n",
    "    \n",
    "    >>> tuple(decode_frame(b'\\x7f'))\n",
    "    (127,)\n",
    "\n",
    "    >>> tuple(decode_frame(b'\\xff'))\n",
    "    (-1,)\n",
    "    \n",
    "    >>> tuple(decode_frame(b'\\x7f \\x7e \\xfd, \\x00', channels=4))\n",
    "    (127, 126, -3, 0)\n",
    "    \"\"\"\n",
    "    sample_length = len(frame) / channels\n",
    "    if not sample_length.is_integer():\n",
    "        raise ValueError(\"len(frame) not divisible by {}\".format(channels))\n",
    "    sample_length = int(sample_length)\n",
    "    \n",
    "    for channel in range(channels):\n",
    "        offset = channel * sample_length\n",
    "        sample_bytes = frame[offset:offset + sample_length]\n",
    "        sample = int.from_bytes(sample_bytes, byteorder='little',\n",
    "                                signed=True)       \n",
    "        yield sample"
   ]
  },
  {
   "cell_type": "markdown",
   "metadata": {},
   "source": [
    "## Reading the Data\n",
    "\n",
    "Alright, let's finally read that file.  We use `wave.open` to receive a `Wave_read` object and read each frame via `readframes(1)`, until the length of the current frame is zero, which happens at the end."
   ]
  },
  {
   "cell_type": "code",
   "execution_count": 23,
   "metadata": {
    "collapsed": false
   },
   "outputs": [
    {
     "name": "stdout",
     "output_type": "stream",
     "text": [
      "Metadata of the wave object:\n",
      "_wave_params(nchannels=2, sampwidth=3, framerate=44100, nframes=192437, comptype='NONE', compname='not compressed')\n",
      "\n",
      "First values of each channel:\n",
      "[0, -303, -3064, -6143, -33774, -22760, -17757, -21861, -14090, -25155]\n",
      "[0, 100, 4703, -4663, 534, 18375, 1686, -3091, 6967, 4929]\n"
     ]
    }
   ],
   "source": [
    "data = [[], []]\n",
    "\n",
    "with wave.open(\"test.wav\") as read:\n",
    "    framerate = read.getframerate()\n",
    "    params = read.getparams()\n",
    "    for i in range(params.nframes):\n",
    "        current_frame = read.readframes(1)\n",
    "\n",
    "        if len(current_frame) != params.nchannels * params.sampwidth:\n",
    "            print(\"Got a frame of length {0} at frame {1} of {2}, breaking.\\n\"\n",
    "                  .format(len(current_frame), i, params.nframes))\n",
    "            break\n",
    "            \n",
    "\n",
    "        current_samples = iter_decode_frame(current_frame,\n",
    "                                            channels=params.nchannels)\n",
    "        for channel, sample_int in enumerate(current_samples):\n",
    "            data[channel].append(sample_int)\n",
    "            \n",
    "print(\"Metadata of the wave object:\\n{}\\n\".format(params))\n",
    "ch1, ch2, *_ = data\n",
    "print(\"First values of each channel:\")\n",
    "pprint(ch1[:10])\n",
    "pprint(ch2[:10])"
   ]
  },
  {
   "cell_type": "code",
   "execution_count": 24,
   "metadata": {
    "collapsed": false
   },
   "outputs": [
    {
     "data": {
      "image/png": "[encoded data removed]",
      "text/plain": [
       "<matplotlib.figure.Figure at 0x7f4e3b094dd8>"
      ]
     },
     "metadata": {},
     "output_type": "display_data"
    }
   ],
   "source": [
    "def plot_channels(*channels, start=0, end=None):\n",
    "    frames = len(channels[0])\n",
    "    \n",
    "    # iff any channel's length differs from channel[0] (⇒bool() == True),\n",
    "    # not all channels have equal length.\n",
    "    if any(len(channel) - frames\n",
    "           for channel in channels):\n",
    "        raise ValueError(\"All channels must have the same length\")\n",
    "        \n",
    "    t = np.arange(frames)\n",
    "    if end is None:\n",
    "        end = len(channels[0])\n",
    "\n",
    "    plt.title(\"Audio data over {0} frames\".format(end-start+1))\n",
    "    \n",
    "    for cell, channel in enumerate(channels, start=1):\n",
    "        plot = plt.subplot(len(channels), 1, cell)\n",
    "        plot.plot(t[start:end], channel[start:end])\n",
    "\n",
    "# frame_range = params.nframes  # 2 * framerate\n",
    "plot_channels(ch1, ch2) "
   ]
  },
  {
   "cell_type": "markdown",
   "metadata": {},
   "source": [
    "__Hooray!__\n",
    "\n",
    "This is now some great basis to play around with. :-)"
   ]
  }
 ],
 "metadata": {
  "kernelspec": {
   "display_name": "Python 3",
   "language": "python",
   "name": "python3"
  },
  "language_info": {
   "codemirror_mode": {
    "name": "ipython",
    "version": 3
   },
   "file_extension": ".py",
   "mimetype": "text/x-python",
   "name": "python",
   "nbconvert_exporter": "python",
   "pygments_lexer": "ipython3",
   "version": "3.5.2"
  }
 },
 "nbformat": 4,
 "nbformat_minor": 0
}
